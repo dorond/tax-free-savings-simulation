{
 "cells": [
  {
   "cell_type": "markdown",
   "metadata": {},
   "source": [
    "https://savetaxfree.co.za/investment-calculator/"
   ]
  },
  {
   "cell_type": "markdown",
   "metadata": {},
   "source": [
    "http://www.sars.gov.za/TaxTypes/PIT/Pages/Tax%20Free%20Investments.aspx"
   ]
  },
  {
   "cell_type": "markdown",
   "metadata": {},
   "source": [
    "# Project Objective\n",
    "------"
   ]
  },
  {
   "cell_type": "markdown",
   "metadata": {},
   "source": [
    "On 1 March 2015, Tax Free Investments were introduced as an incentive to encourage household savings. Returns earned on these investments are not subject to income tax, dividents tax or capital gains tax and can only be provided by licensed banks, long-term insurers, a manager of registered collective schemes (with certain exceptions), the National Government, a mutual bank or a co-operative bank. \n",
    "\n",
    "There are online tools that allow one to estimate their potential returns by specifying risk tolerance, investment term, lump sum and monthly deposit amounts, however it's often a trial and error process whereby you change one parameter at a time in order to see the effect this has on the calculation. \n",
    "\n",
    "The objective of this project is to analyse the outcomes of a tax-free investment across all these parameters using generated data which simulates **ALL** possible scenarios. From this we'll be able to visualise the optimal investment strategies for different risk tolerance levels. \n",
    "\n",
    "In an ideal world, one would invest the maximum amount each month (as allowed by the investment requirements discussed below) and maximise their returns, however most people cannot do this, hence the need for this analysis. "
   ]
  },
  {
   "cell_type": "markdown",
   "metadata": {},
   "source": [
    "# Tax-free Investment Requirements in South Africa"
   ]
  },
  {
   "cell_type": "markdown",
   "metadata": {},
   "source": [
    "The requirements for tax-free investment in South Africa are as follows (as obtained from [SARS](http://www.sars.gov.za/TaxTypes/PIT/Pages/Tax%20Free%20Investments.aspx)):\n",
    "\n",
    "- As of 1 March 2017, you can contribute a maximum of R33,000 per tax year. Any portion of unused annual limit is forfeited in that year. \n",
    "- There is a life time limit of R500,000 per person. \n",
    "- If a person exceeds the limits, there is a penalty of 40% of the excess amount.  Example: Taxpayer X invests R35,000 – exceeded the annual limit by R2,000, 40% of R2,000 = R800 must be paid to SARS. This penalty is added to the normal tax payable on assessment.\n",
    "- A person can have more than one tax free investment, however, you are limited to the annual limits per tax year. This means you can invest, for example, R11,000 in Old Mutual, R11,000 in Investec and R11,000 in Absa.  \n",
    "- Parents can invest on behalf of their minor child.  The minor child will use his/her own annual or lifetime limits.\n",
    "- When returns on investment are added to the capital contributed, the balance may exceed both the annual and/or lifetime limit.  The capitalisation of these returns within the account does not affect the annual or lifetime limit. Example: If you invest R33,000 for the year and receive a return of investment of R5,000, which you have chosen to capitalise, the total amount in the account will be R38,000. The following year, you will still be able to invest your full R33,000 for year.\n",
    "- However, where a person withdraws the returns and reinvests the same amount, that amount is regarded as a new contribution and impacts on both the annual and lifetime limits. Note that any withdrawals made cannot be replaced, be it returns or capital.\n",
    "- Tax free investment accounts cannot be used as transactional accounts.\n",
    "- Debit or stop orders and ATM transactions will not be possible from these accounts.\n",
    "- Only new accounts will qualify as the idea is to encourage new savings, in other words existing accounts may not be converted."
   ]
  },
  {
   "cell_type": "markdown",
   "metadata": {},
   "source": [
    "# Assumptions and Caveats"
   ]
  },
  {
   "cell_type": "markdown",
   "metadata": {},
   "source": [
    "In order to generate the data and make this as realistic as possible, we'll use the following assumptions:\n",
    "- Returns will be reinvested into the fund without withdrawal until the maturity date. \n",
    "- Low, Interest-Bearing Money Market Funds, 7.21%\n",
    "- Low-medium, Multi-Asset Low Equity Funds, 9.93%\n",
    "- Medium, Multi-Asset, average of Medium Equity and High Equity Funds, 12.18%\n",
    "- Medium high, Equity Top 40 Funds, 16.59%\n",
    "- High, Equity, Small and Mid-cap Funds, 18%\n",
    "- Compunding monthly and the end of each investment month."
   ]
  },
  {
   "cell_type": "markdown",
   "metadata": {},
   "source": [
    "# Data Generation Process"
   ]
  },
  {
   "cell_type": "markdown",
   "metadata": {},
   "source": [
    "With the above requirements in mind, we need to generate data "
   ]
  },
  {
   "cell_type": "markdown",
   "metadata": {},
   "source": [
    "## Data Export"
   ]
  },
  {
   "cell_type": "markdown",
   "metadata": {},
   "source": [
    "# Exploratory Data Analysis"
   ]
  },
  {
   "cell_type": "code",
   "execution_count": 1,
   "metadata": {},
   "outputs": [
    {
     "name": "stdout",
     "output_type": "stream",
     "text": [
      "Investment 1 will yield a total of $21589.25 in 10 years\n",
      "After adjusting for inflation, investment 1 is worth $16064.43 in today's dollars\n"
     ]
    }
   ],
   "source": [
    "import numpy as np\n",
    "\n",
    "\n",
    "time_horizon = 18\n",
    "r_return = 0.1218\n",
    "lump_sum = 350\n",
    "monthly = 200\n",
    "\n",
    "investment = np.fv()"
   ]
  },
  {
   "cell_type": "code",
   "execution_count": null,
   "metadata": {},
   "outputs": [],
   "source": [
    "# Calculate investment_1\n",
    "investment_1 = np.fv(rate=0.08, nper=10, pmt=0, pv=-10000)\n",
    "print(\"Investment 1 will yield a total of $\" + str(round(investment_1, 2)) + \" in 10 years\")\n",
    "\n",
    "# Calculate investment_2\n",
    "investment_1_discounted = np.pv(rate=0.03, nper=10, pmt=0, fv=investment_1)\n",
    "print(\"After adjusting for inflation, investment 1 is worth $\" + str(round(-investment_1_discounted, 2)) + \" in today's dollars\")"
   ]
  },
  {
   "cell_type": "markdown",
   "metadata": {},
   "source": [
    "# Summary"
   ]
  },
  {
   "cell_type": "code",
   "execution_count": null,
   "metadata": {},
   "outputs": [],
   "source": []
  },
  {
   "cell_type": "markdown",
   "metadata": {},
   "source": [
    "# Next Steps"
   ]
  },
  {
   "cell_type": "code",
   "execution_count": null,
   "metadata": {},
   "outputs": [],
   "source": []
  }
 ],
 "metadata": {
  "kernelspec": {
   "display_name": "Python 3",
   "language": "python",
   "name": "python3"
  },
  "language_info": {
   "codemirror_mode": {
    "name": "ipython",
    "version": 3
   },
   "file_extension": ".py",
   "mimetype": "text/x-python",
   "name": "python",
   "nbconvert_exporter": "python",
   "pygments_lexer": "ipython3",
   "version": "3.6.6"
  },
  "toc": {
   "base_numbering": 1,
   "nav_menu": {},
   "number_sections": true,
   "sideBar": true,
   "skip_h1_title": false,
   "title_cell": "Table of Contents",
   "title_sidebar": "Contents",
   "toc_cell": false,
   "toc_position": {},
   "toc_section_display": true,
   "toc_window_display": true
  }
 },
 "nbformat": 4,
 "nbformat_minor": 2
}
